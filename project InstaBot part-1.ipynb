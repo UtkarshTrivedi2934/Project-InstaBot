{
 "cells": [
  {
   "cell_type": "code",
   "execution_count": null,
   "id": "608877a4",
   "metadata": {},
   "outputs": [],
   "source": [
    "from selenium import webdriver\n",
    "from selenium.webdriver.chrome.service import Service\n",
    "from selenium.webdriver.support.ui import WebDriverWait\n",
    "from selenium.webdriver.common.by import By\n",
    "from selenium.webdriver.support import expected_conditions as EC\n",
    "import time\n",
    "from selenium.webdriver.support.select import Select\n",
    "from selenium.webdriver.chrome.options import Options"
   ]
  },
  {
   "cell_type": "code",
   "execution_count": null,
   "id": "f415d9aa",
   "metadata": {},
   "outputs": [],
   "source": [
    "service = Service(executable_path='D:\\chromedriver-win64\\chromedriver-win64\\chromedriver.exe')\n",
    "options = webdriver.ChromeOptions()\n",
    "driver = webdriver.Chrome(service=service, options=options)"
   ]
  },
  {
   "cell_type": "markdown",
   "id": "982fbbb7",
   "metadata": {},
   "source": [
    "# Visiting instagram.com"
   ]
  },
  {
   "cell_type": "code",
   "execution_count": null,
   "id": "c09a36ab",
   "metadata": {},
   "outputs": [],
   "source": [
    "driver.get('https://www.instagram.com/')\n",
    "driver.maximize_window()"
   ]
  },
  {
   "cell_type": "markdown",
   "id": "abf3d5ee",
   "metadata": {},
   "source": [
    "# Passing username and password"
   ]
  },
  {
   "cell_type": "code",
   "execution_count": null,
   "id": "ac414c5c",
   "metadata": {},
   "outputs": [],
   "source": [
    "username=\"utk_boi\"\n",
    "password=\"salilkumar47\"\n",
    "waiter=WebDriverWait(driver,10).until(EC.presence_of_element_located((By.NAME,\"username\")))\n",
    "username_field=driver.find_element(By.NAME, 'username')\n",
    "password_field=driver.find_element(By.NAME, 'password')\n",
    "username_field.send_keys(username)\n",
    "password_field.send_keys(password)\n",
    "Login_btn=driver.find_element(By.XPATH, '//button[@type=\"submit\"]')\n",
    "Login_btn.click()"
   ]
  },
  {
   "cell_type": "code",
   "execution_count": null,
   "id": "5b7d3b8d",
   "metadata": {},
   "outputs": [],
   "source": [
    "Not_now_btn = driver.find_element(By.CLASS_NAME, \"x1i10hfl\").click()"
   ]
  },
  {
   "cell_type": "code",
   "execution_count": null,
   "id": "603acb1c",
   "metadata": {},
   "outputs": [],
   "source": [
    "Not_now_btn = driver.find_element(By.CLASS_NAME, \"_a9--\").click()"
   ]
  },
  {
   "cell_type": "code",
   "execution_count": null,
   "id": "5a646d8c",
   "metadata": {},
   "outputs": [],
   "source": [
    "options.add_argument(\"--disable-infobars\")\n",
    "options.add_argument(\"start-maximized\")\n",
    "options.add_argument(\"--disable-extensions\")\n",
    "# Pass the argument 1 to allow and 2 to block\n",
    "options.add_experimental_option(\n",
    "    \"prefs\", {\"profile.default_content_setting_values.notifications\": 1}\n",
    ")\n"
   ]
  },
  {
   "cell_type": "markdown",
   "id": "3568bd9f",
   "metadata": {},
   "source": [
    "# Searching for \"food\""
   ]
  },
  {
   "cell_type": "code",
   "execution_count": null,
   "id": "78b11886",
   "metadata": {},
   "outputs": [],
   "source": [
    "search_box=driver.find_element(By.XPATH, '//span[text()=\"Search\"]')\n",
    "search_box.click()"
   ]
  },
  {
   "cell_type": "code",
   "execution_count": null,
   "id": "97a41834",
   "metadata": {},
   "outputs": [],
   "source": [
    "input = driver.find_element(By.XPATH, '//input[@type = \"text\"]')\n",
    "input.send_keys('food')"
   ]
  },
  {
   "cell_type": "markdown",
   "id": "44c4a1e0",
   "metadata": {},
   "source": [
    "# Listing down top search results after entering \"food\""
   ]
  },
  {
   "cell_type": "code",
   "execution_count": null,
   "id": "a02efb1c",
   "metadata": {},
   "outputs": [],
   "source": [
    "count = 0\n",
    "for i in driver.find_elements(By.XPATH, '//span[@class = \"x1lliihq x193iq5w x6ikm8r x10wlt62 xlyipyv xuxw1ft\"]'):\n",
    "    count+=1\n",
    "    if count <= 10:\n",
    "        print(i.get_attribute('innerHTML'))"
   ]
  },
  {
   "cell_type": "code",
   "execution_count": null,
   "id": "a36396df",
   "metadata": {},
   "outputs": [],
   "source": [
    "input.clear()"
   ]
  },
  {
   "cell_type": "markdown",
   "id": "a3666740",
   "metadata": {},
   "source": [
    "# Visiting So Delhi instagram page"
   ]
  },
  {
   "cell_type": "code",
   "execution_count": null,
   "id": "35e4bee0",
   "metadata": {},
   "outputs": [],
   "source": [
    "input = driver.find_element(By.XPATH, '//input[@type = \"text\"]')\n",
    "input.send_keys('So Delhi')\n"
   ]
  },
  {
   "cell_type": "code",
   "execution_count": null,
   "id": "03bc2999",
   "metadata": {},
   "outputs": [],
   "source": [
    "SoDelhi = driver.find_element(By.XPATH, '//span[text()=\"sodelhi\"]').click()"
   ]
  },
  {
   "cell_type": "markdown",
   "id": "fa07b9d5",
   "metadata": {},
   "source": [
    "# Following the page"
   ]
  },
  {
   "cell_type": "code",
   "execution_count": null,
   "id": "1fe7d7a6",
   "metadata": {},
   "outputs": [],
   "source": [
    "if driver.find_element(By.CLASS_NAME, \"_ap3a\").get_attribute('innerHTML') == 'Follow':\n",
    "    driver.find_element(By.CLASS_NAME, \"_ap3a\").click()\n",
    "else:\n",
    "    print('You are already following the page!')"
   ]
  },
  {
   "cell_type": "markdown",
   "id": "9b42ee9e",
   "metadata": {},
   "source": [
    "# Undoing changes"
   ]
  },
  {
   "cell_type": "code",
   "execution_count": null,
   "id": "db4b7982",
   "metadata": {},
   "outputs": [],
   "source": [
    "if driver.find_element(By.CLASS_NAME, \"_ap3a\").get_attribute('innerHTML') == 'Following':\n",
    "    driver.find_element(By.CLASS_NAME, \"_ap3a\").click()\n",
    "    time.sleep(3)\n",
    "    driver.find_element(By.XPATH, '//span[text()=\"Unfollow\"]').click()\n",
    "else:\n",
    "    print('You have already unfollowed!')"
   ]
  },
  {
   "cell_type": "code",
   "execution_count": null,
   "id": "e25d0a64",
   "metadata": {},
   "outputs": [],
   "source": [
    "search_box=driver.find_element(By.XPATH, '//span[text()=\"Search\"]')\n",
    "search_box.click()"
   ]
  },
  {
   "cell_type": "markdown",
   "id": "98b940ca",
   "metadata": {},
   "source": [
    "# Visiting dil se foodie instagram page"
   ]
  },
  {
   "cell_type": "code",
   "execution_count": null,
   "id": "4c5bbfd0",
   "metadata": {},
   "outputs": [],
   "source": [
    "input = driver.find_element(By.XPATH, '//input[@type = \"text\"]')\n",
    "input.send_keys('dilsefoodie')"
   ]
  },
  {
   "cell_type": "code",
   "execution_count": null,
   "id": "10c4a7b8",
   "metadata": {},
   "outputs": [],
   "source": [
    "DilseFoodie = driver.find_element(By.XPATH, '//span[text()=\"dilsefoodie\"]').click()"
   ]
  },
  {
   "cell_type": "code",
   "execution_count": null,
   "id": "b252daac",
   "metadata": {},
   "outputs": [],
   "source": [
    "driver.execute_script('window.scrollBy(0, 3000);')"
   ]
  },
  {
   "cell_type": "code",
   "execution_count": null,
   "id": "0a300c06",
   "metadata": {},
   "outputs": [],
   "source": [
    "search_box = driver.find_element(By.CSS_SELECTOR, \"[aria-label=Search]\").click()"
   ]
  },
  {
   "cell_type": "markdown",
   "id": "556d5369",
   "metadata": {},
   "source": [
    "# lets like 10 posts of dilsefoodie"
   ]
  },
  {
   "cell_type": "code",
   "execution_count": null,
   "id": "c5a8ec48",
   "metadata": {},
   "outputs": [],
   "source": [
    "count = 0\n",
    "btns = driver.find_elements(By.CLASS_NAME, \"_aagu\")\n",
    "# btns\n",
    "for i in btns:\n",
    "    i.click()\n",
    "    time.sleep(3)\n",
    "    like = driver.find_element(By.CSS_SELECTOR, \"[aria-label=Like]\").click()\n",
    "    time.sleep(0.8)\n",
    "    closeBTN = driver.find_element(By.CSS_SELECTOR, \"[aria-label=Close]\").click()\n",
    "    time.sleep(0.8)\n",
    "    count+=1\n",
    "    if count == 10:\n",
    "        break"
   ]
  },
  {
   "cell_type": "markdown",
   "id": "9bf33cd0",
   "metadata": {},
   "source": [
    "# Undoing changes"
   ]
  },
  {
   "cell_type": "code",
   "execution_count": null,
   "id": "243a40fa",
   "metadata": {},
   "outputs": [],
   "source": [
    "count = 0\n",
    "btns = driver.find_elements(By.CLASS_NAME, \"_aagu\")\n",
    "# btns\n",
    "for i in btns:\n",
    "    i.click()\n",
    "    time.sleep(3)\n",
    "    like = driver.find_element(By.CSS_SELECTOR, \"[aria-label=Unlike]\").click()\n",
    "    time.sleep(0.8)\n",
    "    closeBTN = driver.find_element(By.CSS_SELECTOR, \"[aria-label=Close]\").click()\n",
    "    time.sleep(0.8)\n",
    "    count+=1\n",
    "    if count == 10:\n",
    "        break"
   ]
  },
  {
   "cell_type": "markdown",
   "id": "c72d6542",
   "metadata": {},
   "source": [
    "# Viewing Story"
   ]
  },
  {
   "cell_type": "code",
   "execution_count": null,
   "id": "0ca4c2e5",
   "metadata": {},
   "outputs": [],
   "source": [
    "driver.find_element(By.XPATH, '//span[text()=\"Home\"]').click()"
   ]
  },
  {
   "cell_type": "code",
   "execution_count": null,
   "id": "25a4aa47",
   "metadata": {},
   "outputs": [],
   "source": [
    "Not_now_btn = driver.find_element(By.CLASS_NAME, \"_a9--\").click()"
   ]
  },
  {
   "cell_type": "code",
   "execution_count": null,
   "id": "f6489b43",
   "metadata": {},
   "outputs": [],
   "source": [
    "search_box=driver.find_element(By.XPATH, '//span[text()=\"Search\"]')\n",
    "search_box.click()"
   ]
  },
  {
   "cell_type": "code",
   "execution_count": null,
   "id": "a98a1234",
   "metadata": {},
   "outputs": [],
   "source": [
    "input = driver.find_element(By.XPATH, '//input[@type = \"text\"]')\n",
    "input.send_keys('dilsefoodie')"
   ]
  },
  {
   "cell_type": "code",
   "execution_count": null,
   "id": "0bec81b3",
   "metadata": {},
   "outputs": [],
   "source": [
    "DilseFoodie = driver.find_element(By.XPATH, '//span[text()=\"dilsefoodie\"]').click()"
   ]
  },
  {
   "cell_type": "code",
   "execution_count": null,
   "id": "a13de51d",
   "metadata": {},
   "outputs": [],
   "source": [
    "story = driver.find_element(By.CLASS_NAME, \"_aarf\").click()"
   ]
  },
  {
   "cell_type": "code",
   "execution_count": null,
   "id": "b8fda165",
   "metadata": {},
   "outputs": [],
   "source": [
    "closeBTN = driver.find_element(By.CSS_SELECTOR, \"[aria-label=Close]\").click()"
   ]
  },
  {
   "cell_type": "markdown",
   "id": "7445e6f1",
   "metadata": {},
   "source": [
    "# End of project"
   ]
  },
  {
   "cell_type": "code",
   "execution_count": null,
   "id": "2316c19f",
   "metadata": {},
   "outputs": [],
   "source": [
    "driver.quit()"
   ]
  },
  {
   "cell_type": "code",
   "execution_count": null,
   "id": "ce04a3df",
   "metadata": {},
   "outputs": [],
   "source": []
  }
 ],
 "metadata": {
  "kernelspec": {
   "display_name": "Python 3 (ipykernel)",
   "language": "python",
   "name": "python3"
  },
  "language_info": {
   "codemirror_mode": {
    "name": "ipython",
    "version": 3
   },
   "file_extension": ".py",
   "mimetype": "text/x-python",
   "name": "python",
   "nbconvert_exporter": "python",
   "pygments_lexer": "ipython3",
   "version": "3.11.5"
  }
 },
 "nbformat": 4,
 "nbformat_minor": 5
}
